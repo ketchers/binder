{
  "nbformat": 4,
  "nbformat_minor": 0,
  "metadata": {
    "colab": {
      "name": "sumOfThreeCubes.ipynb",
      "version": "0.3.2",
      "provenance": [],
      "include_colab_link": true
    },
    "kernelspec": {
      "name": "python3",
      "display_name": "Python 3"
    },
    "accelerator": "GPU"
  },
  "cells": [
    {
      "cell_type": "markdown",
      "metadata": {
        "id": "view-in-github",
        "colab_type": "text"
      },
      "source": [
        "<a href=\"https://colab.research.google.com/github/ketchers/binder/blob/master/sumOfThreeCubes.ipynb\" target=\"_parent\"><img src=\"https://colab.research.google.com/assets/colab-badge.svg\" alt=\"Open In Colab\"/></a>"
      ]
    },
    {
      "metadata": {
        "id": "YSIsHvb2_uH6",
        "colab_type": "code",
        "colab": {}
      },
      "cell_type": "code",
      "source": [
        "def gcd(m,n):\n",
        "    k = m % n\n",
        "    return n if k == 0 else gcd(n, k) "
      ],
      "execution_count": 0,
      "outputs": []
    },
    {
      "metadata": {
        "collapsed": false,
        "id": "E72YR0MK_uH-",
        "colab_type": "text"
      },
      "cell_type": "markdown",
      "source": [
        "### Resources\n",
        "* [Primes](https://stackoverflow.com/questions/567222/simple-prime-generator-in-python)\n",
        "* [Sum of Three Primes](https://www.quantamagazine.org/sum-of-three-cubes-problem-solved-for-stubborn-number-33-20190326/)"
      ]
    },
    {
      "metadata": {
        "id": "sPLqQI19_uH_",
        "colab_type": "code",
        "colab": {
          "base_uri": "https://localhost:8080/",
          "height": 37
        },
        "outputId": "a7aab24e-0f91-4d73-ca74-7d620d73f76c"
      },
      "cell_type": "code",
      "source": [
        "x = 8866128975287528\n",
        "y = 8778405442862239\n",
        "z = 2736111468807040\n",
        "\n",
        "x**3 - y**3 - z**3"
      ],
      "execution_count": 5,
      "outputs": [
        {
          "output_type": "execute_result",
          "data": {
            "text/plain": [
              "33"
            ]
          },
          "metadata": {
            "tags": []
          },
          "execution_count": 5
        }
      ]
    },
    {
      "metadata": {
        "id": "TZEJAlwl_uIE",
        "colab_type": "code",
        "colab": {}
      },
      "cell_type": "code",
      "source": [
        "def isPrime(n):\n",
        "    i = 2\n",
        "    primes = {}\n",
        "    while i*i <= n:\n",
        "        count = 0\n",
        "        while n % i == 0:\n",
        "            if i in primes:\n",
        "                primes[i] = primes[i] + 1\n",
        "            else:\n",
        "                primes[i] = 1\n",
        "            n = n//i\n",
        "        i = i + 1\n",
        "        \n",
        "    if n != 1:\n",
        "        primes[n] = 1\n",
        "    return primes"
      ],
      "execution_count": 0,
      "outputs": []
    },
    {
      "metadata": {
        "collapsed": false,
        "id": "_4D4ln2f_uIH",
        "colab_type": "text"
      },
      "cell_type": "markdown",
      "source": [
        "### This seems faster thant the following sieve\n",
        "Just brute force output the list of primes that divide each number."
      ]
    },
    {
      "metadata": {
        "id": "ZH0QkJ5g_uII",
        "colab_type": "code",
        "colab": {}
      },
      "cell_type": "code",
      "source": [
        "Xdecomp = isPrime(x)\n",
        "Ydecomp = isPrime(y)\n",
        "Zdecomp = isPrime(z)"
      ],
      "execution_count": 0,
      "outputs": []
    },
    {
      "metadata": {
        "id": "amFVvxl9_uIK",
        "colab_type": "code",
        "colab": {
          "base_uri": "https://localhost:8080/",
          "height": 126
        },
        "outputId": "873433b0-4f09-4a93-e6b0-5d48585564a0"
      },
      "cell_type": "code",
      "source": [
        "from IPython.display import Math\n",
        "from google.colab.output._publish import javascript\n",
        "url = \"https://cdnjs.cloudflare.com/ajax/libs/mathjax/2.7.3/latest.js?config=default\"\n",
        "\n",
        "javascript(url=url)\n",
        "str=r\"\"\"$\\begin{align*}\n",
        "     x &= %s \\\\\n",
        "     y &= %s \\\\\n",
        "     z &= %s\n",
        "     \\end{align*}$\"\"\"%(\"\\cdot\".join(map(lambda n: \"%d^%d\"%(n,Xdecomp[n]), Xdecomp)), \n",
        "                \"\\cdot\".join(map(lambda n: \"%d^%d\"%(n,Ydecomp[n]), Ydecomp)),\n",
        "                \"\\cdot\".join(map(lambda n: \"%d^%d\"%(n,Zdecomp[n]), Zdecomp)))\n",
        "Math(str)"
      ],
      "execution_count": 15,
      "outputs": [
        {
          "output_type": "display_data",
          "data": {
            "text/html": [
              "<script src='https://cdnjs.cloudflare.com/ajax/libs/mathjax/2.7.3/latest.js?config=default'></script>"
            ],
            "text/plain": [
              "<IPython.core.display.HTML object>"
            ]
          },
          "metadata": {
            "tags": []
          }
        },
        {
          "output_type": "execute_result",
          "data": {
            "text/latex": "$$\\begin{align*}\n     x &= 2^3\\cdot7^1\\cdot467^1\\cdot378289^1\\cdot896201^1 \\\\\n     y &= 8778405442862239^1 \\\\\n     z &= 2^7\\cdot5^1\\cdot89917^1\\cdot47545783^1\n     \\end{align*}$$",
            "text/plain": [
              "<IPython.core.display.Math object>"
            ]
          },
          "metadata": {
            "tags": []
          },
          "execution_count": 15
        }
      ]
    },
    {
      "metadata": {
        "id": "jUAE4gCz_uIO",
        "colab_type": "code",
        "colab": {},
        "outputId": "8a2e4c42-899c-4210-f09a-a5626abf9250"
      },
      "cell_type": "code",
      "source": [
        "Xdecomp, Ydecomp, Zdecomp"
      ],
      "execution_count": 0,
      "outputs": [
        {
          "output_type": "execute_result",
          "data": {
            "text/plain": [
              "({2: 3, 7: 1, 467: 1, 378289: 1, 896201: 1},\n",
              " {8778405442862239: 1},\n",
              " {2: 7, 5: 1, 89917: 1, 47545783: 1})"
            ]
          },
          "metadata": {
            "tags": []
          },
          "execution_count": 22
        }
      ]
    },
    {
      "metadata": {
        "id": "4lYrAlAuF6oF",
        "colab_type": "code",
        "colab": {
          "base_uri": "https://localhost:8080/",
          "height": 126
        },
        "outputId": "396ebf8f-f4e6-47fd-a14a-46b0c64de59f"
      },
      "cell_type": "code",
      "source": [
        "javascript(url=url)\n",
        "Math(str)"
      ],
      "execution_count": 17,
      "outputs": [
        {
          "output_type": "display_data",
          "data": {
            "text/html": [
              "<script src='https://cdnjs.cloudflare.com/ajax/libs/mathjax/2.7.3/latest.js?config=default'></script>"
            ],
            "text/plain": [
              "<IPython.core.display.HTML object>"
            ]
          },
          "metadata": {
            "tags": []
          }
        },
        {
          "output_type": "execute_result",
          "data": {
            "text/latex": "$$\\begin{align*}\n     x &= 2^3\\cdot7^1\\cdot467^1\\cdot378289^1\\cdot896201^1 \\\\\n     y &= 8778405442862239^1 \\\\\n     z &= 2^7\\cdot5^1\\cdot89917^1\\cdot47545783^1\n     \\end{align*}$$",
            "text/plain": [
              "<IPython.core.display.Math object>"
            ]
          },
          "metadata": {
            "tags": []
          },
          "execution_count": 17
        }
      ]
    },
    {
      "metadata": {
        "collapsed": false,
        "id": "b4Dd5KT5_uIU",
        "colab_type": "text"
      },
      "cell_type": "markdown",
      "source": [
        "### Prime sieve\n",
        "This is the original code"
      ]
    },
    {
      "metadata": {
        "id": "DvEPGdfA_uIW",
        "colab_type": "code",
        "colab": {}
      },
      "cell_type": "code",
      "source": [
        "def gen_primes():\n",
        "\n",
        "    \"\"\" Generate an infinite sequence of prime numbers.\n",
        "    \"\"\"\n",
        "    # Maps composites to primes witnessing their compositeness.\n",
        "    # This is memory efficient, as the sieve is not \"run forward\"\n",
        "    # indefinitely, but only as long as required by the current\n",
        "    # number being tested.\n",
        "    #\n",
        "    D = {}\n",
        "    \n",
        "    # The running integer that's checked for primeness\n",
        "    q = 2\n",
        "    \n",
        "    while True:\n",
        "        if q not in D:\n",
        "            # q is a new prime.\n",
        "            # Yield it and mark its first multiple that isn't\n",
        "            # already marked in previous iterations\n",
        "            # \n",
        "            yield q,D\n",
        "            \n",
        "            D[q * q] = [q]\n",
        "        else:\n",
        "            # q is composite. D[q] is the list of primes that\n",
        "            # divide it. Since we've reached q, we no longer\n",
        "            # need it in the map, but we'll mark the next \n",
        "            # multiples of its witnesses to prepare for larger\n",
        "            # numbers\n",
        "            # \n",
        "            for p in D[q]:\n",
        "                D.setdefault(p + q, []).append(p)\n",
        "            del D[q]\n",
        "        \n",
        "        q += 1"
      ],
      "execution_count": 0,
      "outputs": []
    },
    {
      "metadata": {
        "collapsed": false,
        "id": "mkReSkjJ_uIa",
        "colab_type": "text"
      },
      "cell_type": "markdown",
      "source": [
        "### Prime sieve\n",
        "This is a variant of the above that only looks for prime factors of x, if x = 0 it runs as the above."
      ]
    },
    {
      "metadata": {
        "id": "mOM2MMTV_uIb",
        "colab_type": "code",
        "colab": {}
      },
      "cell_type": "code",
      "source": [
        "def gen_primes(x = 0):\n",
        "    \"\"\" Generates list of prime divisors of x\n",
        "    \"\"\"\n",
        "    # Maps composites to primes witnessing their compositeness.\n",
        "    # This is memory efficient, as the sieve is not \"run forward\"\n",
        "    # indefinitely, but only as long as required by the current\n",
        "    # number being tested.\n",
        "    #\n",
        "    D = {}\n",
        "    \n",
        "    # The running integer that's checked for primeness\n",
        "    q = 2\n",
        "    \n",
        "    while q <= x or x == 0: #x = 0 gives infinite list of primes \n",
        "        if q not in D:\n",
        "            # q is a new prime.\n",
        "            # Yield it and mark its first multiple that isn't\n",
        "            # already marked in previous iterations\n",
        "            # \n",
        "            if x == 0:\n",
        "                yield q\n",
        "            else:\n",
        "                while x % q == 0:\n",
        "                    x = x//q\n",
        "                    yield q \n",
        "            \n",
        "            D[q * q] = [q]\n",
        "        else:\n",
        "            # q is composite. D[q] is the list of primes that\n",
        "            # divide it. Since we've reached q, we no longer\n",
        "            # need it in the map, but we'll mark the next \n",
        "            # multiples of its witnesses to prepare for larger\n",
        "            # numbers\n",
        "            # \n",
        "            for p in D[q]:\n",
        "                D.setdefault(p + q, []).append(p)\n",
        "            del D[q]\n",
        "        \n",
        "        q += 1"
      ],
      "execution_count": 0,
      "outputs": []
    },
    {
      "metadata": {
        "id": "vBDbXTIG_uIe",
        "colab_type": "code",
        "colab": {
          "base_uri": "https://localhost:8080/",
          "height": 410
        },
        "outputId": "f0439ee3-d57a-4741-c812-cd7725537d71"
      },
      "cell_type": "code",
      "source": [
        "g = gen_primes()\n",
        "q = 2\n",
        "\n",
        "E = {'x':[], 'y':[], 'z':[]}\n",
        "while q < max([x, y, z]):\n",
        "    q = next(g)\n",
        "    if x % q == 0:\n",
        "         while x % q == 0:\n",
        "            x = x//q\n",
        "            E['x'].append(q)\n",
        "            print('x', E['x'])\n",
        "        \n",
        "    if y % q == 0:\n",
        "         while y % q == 0:\n",
        "            x = y//q\n",
        "            E['y'].append(q)\n",
        "            print('y', E['y'])\n",
        "    \n",
        "    if z % q == 0:\n",
        "         while z % q == 0:\n",
        "            z = z//q\n",
        "            E['z'].append(q)\n",
        "            print('z', E['z'])"
      ],
      "execution_count": 10,
      "outputs": [
        {
          "output_type": "error",
          "ename": "KeyboardInterrupt",
          "evalue": "ignored",
          "traceback": [
            "\u001b[0;31m---------------------------------------------------------------------------\u001b[0m",
            "\u001b[0;31mKeyboardInterrupt\u001b[0m                         Traceback (most recent call last)",
            "\u001b[0;32m<ipython-input-10-52f3586ae084>\u001b[0m in \u001b[0;36m<module>\u001b[0;34m()\u001b[0m\n\u001b[1;32m      4\u001b[0m \u001b[0mE\u001b[0m \u001b[0;34m=\u001b[0m \u001b[0;34m{\u001b[0m\u001b[0;34m'x'\u001b[0m\u001b[0;34m:\u001b[0m\u001b[0;34m[\u001b[0m\u001b[0;34m]\u001b[0m\u001b[0;34m,\u001b[0m \u001b[0;34m'y'\u001b[0m\u001b[0;34m:\u001b[0m\u001b[0;34m[\u001b[0m\u001b[0;34m]\u001b[0m\u001b[0;34m,\u001b[0m \u001b[0;34m'z'\u001b[0m\u001b[0;34m:\u001b[0m\u001b[0;34m[\u001b[0m\u001b[0;34m]\u001b[0m\u001b[0;34m}\u001b[0m\u001b[0;34m\u001b[0m\u001b[0;34m\u001b[0m\u001b[0m\n\u001b[1;32m      5\u001b[0m \u001b[0;32mwhile\u001b[0m \u001b[0mq\u001b[0m \u001b[0;34m<\u001b[0m \u001b[0mmax\u001b[0m\u001b[0;34m(\u001b[0m\u001b[0;34m[\u001b[0m\u001b[0mx\u001b[0m\u001b[0;34m,\u001b[0m \u001b[0my\u001b[0m\u001b[0;34m,\u001b[0m \u001b[0mz\u001b[0m\u001b[0;34m]\u001b[0m\u001b[0;34m)\u001b[0m\u001b[0;34m:\u001b[0m\u001b[0;34m\u001b[0m\u001b[0;34m\u001b[0m\u001b[0m\n\u001b[0;32m----> 6\u001b[0;31m     \u001b[0mq\u001b[0m \u001b[0;34m=\u001b[0m \u001b[0mnext\u001b[0m\u001b[0;34m(\u001b[0m\u001b[0mg\u001b[0m\u001b[0;34m)\u001b[0m\u001b[0;34m\u001b[0m\u001b[0;34m\u001b[0m\u001b[0m\n\u001b[0m\u001b[1;32m      7\u001b[0m     \u001b[0;32mif\u001b[0m \u001b[0mx\u001b[0m \u001b[0;34m%\u001b[0m \u001b[0mq\u001b[0m \u001b[0;34m==\u001b[0m \u001b[0;36m0\u001b[0m\u001b[0;34m:\u001b[0m\u001b[0;34m\u001b[0m\u001b[0;34m\u001b[0m\u001b[0m\n\u001b[1;32m      8\u001b[0m          \u001b[0;32mwhile\u001b[0m \u001b[0mx\u001b[0m \u001b[0;34m%\u001b[0m \u001b[0mq\u001b[0m \u001b[0;34m==\u001b[0m \u001b[0;36m0\u001b[0m\u001b[0;34m:\u001b[0m\u001b[0;34m\u001b[0m\u001b[0;34m\u001b[0m\u001b[0m\n",
            "\u001b[0;32m<ipython-input-8-507dfc4b45ac>\u001b[0m in \u001b[0;36mgen_primes\u001b[0;34m(x)\u001b[0m\n\u001b[1;32m     33\u001b[0m             \u001b[0;31m# numbers\u001b[0m\u001b[0;34m\u001b[0m\u001b[0;34m\u001b[0m\u001b[0;34m\u001b[0m\u001b[0m\n\u001b[1;32m     34\u001b[0m             \u001b[0;31m#\u001b[0m\u001b[0;34m\u001b[0m\u001b[0;34m\u001b[0m\u001b[0;34m\u001b[0m\u001b[0m\n\u001b[0;32m---> 35\u001b[0;31m             \u001b[0;32mfor\u001b[0m \u001b[0mp\u001b[0m \u001b[0;32min\u001b[0m \u001b[0mD\u001b[0m\u001b[0;34m[\u001b[0m\u001b[0mq\u001b[0m\u001b[0;34m]\u001b[0m\u001b[0;34m:\u001b[0m\u001b[0;34m\u001b[0m\u001b[0;34m\u001b[0m\u001b[0m\n\u001b[0m\u001b[1;32m     36\u001b[0m                 \u001b[0mD\u001b[0m\u001b[0;34m.\u001b[0m\u001b[0msetdefault\u001b[0m\u001b[0;34m(\u001b[0m\u001b[0mp\u001b[0m \u001b[0;34m+\u001b[0m \u001b[0mq\u001b[0m\u001b[0;34m,\u001b[0m \u001b[0;34m[\u001b[0m\u001b[0;34m]\u001b[0m\u001b[0;34m)\u001b[0m\u001b[0;34m.\u001b[0m\u001b[0mappend\u001b[0m\u001b[0;34m(\u001b[0m\u001b[0mp\u001b[0m\u001b[0;34m)\u001b[0m\u001b[0;34m\u001b[0m\u001b[0;34m\u001b[0m\u001b[0m\n\u001b[1;32m     37\u001b[0m             \u001b[0;32mdel\u001b[0m \u001b[0mD\u001b[0m\u001b[0;34m[\u001b[0m\u001b[0mq\u001b[0m\u001b[0;34m]\u001b[0m\u001b[0;34m\u001b[0m\u001b[0;34m\u001b[0m\u001b[0m\n",
            "\u001b[0;31mKeyboardInterrupt\u001b[0m: "
          ]
        }
      ]
    },
    {
      "metadata": {
        "id": "GmAm_S3D_uIh",
        "colab_type": "code",
        "colab": {}
      },
      "cell_type": "code",
      "source": [
        "Xdecomp = E['x']\n",
        "Ydecomp = E['y']\n",
        "Zdecomp = E['z']"
      ],
      "execution_count": 0,
      "outputs": []
    },
    {
      "metadata": {
        "collapsed": false,
        "id": "TGeKRkwG_uIj",
        "colab_type": "text"
      },
      "cell_type": "markdown",
      "source": [
        "### The following is just for a check"
      ]
    },
    {
      "metadata": {
        "id": "IAgIooef_uIk",
        "colab_type": "code",
        "colab": {}
      },
      "cell_type": "code",
      "source": [
        "from functools import reduce\n",
        "\n",
        "def prod(a):\n",
        "    return reduce(lambda x, y: x * y, a, 1)"
      ],
      "execution_count": 0,
      "outputs": []
    },
    {
      "metadata": {
        "id": "GhW5fuBW_uIo",
        "colab_type": "code",
        "colab": {}
      },
      "cell_type": "code",
      "source": [
        "prod(Xdecomp)"
      ],
      "execution_count": 0,
      "outputs": []
    },
    {
      "metadata": {
        "id": "7QjF2wsJ_uIt",
        "colab_type": "code",
        "colab": {}
      },
      "cell_type": "code",
      "source": [
        "g = gen_primes()"
      ],
      "execution_count": 0,
      "outputs": []
    },
    {
      "metadata": {
        "id": "uC5DY5p4_uIx",
        "colab_type": "code",
        "colab": {}
      },
      "cell_type": "code",
      "source": [
        "g = gen_primes()\n",
        "h = (next(g) for i in range(1000))\n",
        "m = map(isPrime, list(h))"
      ],
      "execution_count": 0,
      "outputs": []
    },
    {
      "metadata": {
        "id": "WHTDsqBX_uI1",
        "colab_type": "code",
        "colab": {},
        "outputId": "1bd716f7-a430-4950-ed00-023ed2cdbc34"
      },
      "cell_type": "code",
      "source": [
        "a ={}\n",
        "a['a']='a'\n",
        "a.setdefault('a','b')"
      ],
      "execution_count": 0,
      "outputs": [
        {
          "output_type": "execute_result",
          "data": {
            "text/plain": [
              "'a'"
            ]
          },
          "metadata": {
            "tags": []
          },
          "execution_count": 15
        }
      ]
    },
    {
      "metadata": {
        "id": "VAs0REqN_uI8",
        "colab_type": "code",
        "colab": {},
        "outputId": "c063f970-0df8-4a65-f9a2-01d862a9374f"
      },
      "cell_type": "code",
      "source": [
        "a"
      ],
      "execution_count": 0,
      "outputs": [
        {
          "output_type": "execute_result",
          "data": {
            "text/plain": [
              "{'a': 'a'}"
            ]
          },
          "metadata": {
            "tags": []
          },
          "execution_count": 16
        }
      ]
    },
    {
      "metadata": {
        "id": "F3eK4uL4_uJD",
        "colab_type": "code",
        "colab": {}
      },
      "cell_type": "code",
      "source": [
        ""
      ],
      "execution_count": 0,
      "outputs": []
    }
  ]
}