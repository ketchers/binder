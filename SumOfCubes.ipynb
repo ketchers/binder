{
 "cells": [
  {
   "cell_type": "markdown",
   "metadata": {},
   "source": [
    "### Resources\n",
    "* [Primes](https://stackoverflow.com/questions/567222/simple-prime-generator-in-python)\n",
    "* [Sum of Three Primes](https://www.quantamagazine.org/sum-of-three-cubes-problem-solved-for-stubborn-number-33-20190326/)"
   ]
  },
  {
   "cell_type": "code",
   "execution_count": null,
   "metadata": {},
   "outputs": [],
   "source": [
    "def gen_primes():\n",
    "    \"\"\" Generate an infinite sequence of prime numbers.\n",
    "    \"\"\"\n",
    "    # Maps composites to primes witnessing their compositeness.\n",
    "    # This is memory efficient, as the sieve is not \"run forward\"\n",
    "    # indefinitely, but only as long as required by the current\n",
    "    # number being tested.\n",
    "    #\n",
    "    D = {}\n",
    "    \n",
    "    # The running integer that's checked for primeness\n",
    "    q = 2\n",
    "    \n",
    "    while True:\n",
    "        if q not in D:\n",
    "            # q is a new prime.\n",
    "            # Yield it and mark its first multiple that isn't\n",
    "            # already marked in previous iterations\n",
    "            # \n",
    "            yield q,D\n",
    "            \n",
    "            D[q * q] = [q]\n",
    "        else:\n",
    "            # q is composite. D[q] is the list of primes that\n",
    "            # divide it. Since we've reached q, we no longer\n",
    "            # need it in the map, but we'll mark the next \n",
    "            # multiples of its witnesses to prepare for larger\n",
    "            # numbers\n",
    "            # \n",
    "            for p in D[q]:\n",
    "                D.setdefault(p + q, []).append(p)\n",
    "            del D[q]\n",
    "        \n",
    "        q += 1"
   ]
  },
  {
   "cell_type": "code",
   "execution_count": null,
   "metadata": {},
   "outputs": [],
   "source": [
    "q = 1\n",
    "\n",
    "x = 8866128975287528\n",
    "y = 8778405442862239\n",
    "z = 2736111468807040\n",
    "\n",
    "g = gen_primes()\n",
    "\n",
    "E = {'x':[], 'y':[], 'z':[]}\n",
    "while q < max([x, y, z]):\n",
    "    q = next(g)\n",
    "    if x % q == 0:\n",
    "         while x % q == 0:\n",
    "            x = x//q\n",
    "            E['x'].append(q)\n",
    "            print('x', E['x'])\n",
    "        \n",
    "    if y % q == 0:\n",
    "         while y % q == 0:\n",
    "            x = y//q\n",
    "            E['y'].append(q)\n",
    "            print('y', E['y'])\n",
    "    \n",
    "    if z % q == 0:\n",
    "         while z % q == 0:\n",
    "            z = z//q\n",
    "            E['z'].append(q)\n",
    "            print('z', E['z'])"
   ]
  }
 ],
 "metadata": {
  "kernelspec": {
   "display_name": "Python 3",
   "language": "python",
   "name": "python3"
  },
  "language_info": {
   "codemirror_mode": {
    "name": "ipython",
    "version": 3
   },
   "file_extension": ".py",
   "mimetype": "text/x-python",
   "name": "python",
   "nbconvert_exporter": "python",
   "pygments_lexer": "ipython3",
   "version": "3.7.2"
  }
 },
 "nbformat": 4,
 "nbformat_minor": 2
}
